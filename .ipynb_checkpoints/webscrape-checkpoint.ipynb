{
 "cells": [
  {
   "cell_type": "code",
   "execution_count": 1,
   "metadata": {},
   "outputs": [],
   "source": [
    "import os\n",
    "import requests\n",
    "from bs4 import BeautifulSoup\n",
    "from PIL import Image"
   ]
  },
  {
   "cell_type": "code",
   "execution_count": 2,
   "metadata": {},
   "outputs": [],
   "source": [
    "URL = 'https://www.nfl.com/teams/'\n",
    "page = requests.get(URL)"
   ]
  },
  {
   "cell_type": "code",
   "execution_count": 3,
   "metadata": {},
   "outputs": [
    {
     "data": {
      "text/plain": [
       "<div class=\"d3-l-col__col-12\" id=\"scroll-nfcteams\">\n",
       "<div class=\"d3-l-section-header\">\n",
       "<h2 class=\"d3-o-section-title\">\n",
       "<span>\n",
       "                NFC Teams\n",
       "              </span>\n",
       "</h2>\n",
       "</div>\n",
       "</div>"
      ]
     },
     "execution_count": 3,
     "metadata": {},
     "output_type": "execute_result"
    }
   ],
   "source": [
    "soup = BeautifulSoup(page.content, 'html.parser')\n",
    "results = soup.find_all(\"div\", {\"class\":\"d3-l-col__col-12\"})\n",
    "results.pop(0)"
   ]
  },
  {
   "cell_type": "code",
   "execution_count": 4,
   "metadata": {},
   "outputs": [
    {
     "data": {
      "text/plain": [
       "<div class=\"d3-l-col__col-12\">\n",
       "<div class=\"nfl-c-custom-promo nfl-c-custom-promo--has-color-schema-all-black-on-white nfl-c-custom-promo--has-image-position-left nfl-c-custom-promo--has-desktop-size-33 nfl-c-custom-promo--has-mobile-size-33 nfl-c-custom-promo--has-text-align-left nfl-c-custom-promo--has-background-size-cover nfl-c-custom-promo--has-padding nfl-c-custom-promo--has-cta-size-small nfl-c-custom-promo--has-cta-color-schema-link-color nfl-c-custom-promo--no-section-title\">\n",
       "<div class=\"d3-o-media-object d3-o-media-object--horizontal d3-o-media-object--vertical-center nfl-c-custom-promo__content\" style=\"background-image:url(https://static.www.nfl.com/image/private/f_auto/league/pctgb2f0u7z0oiwpaci3);\">\n",
       "<figure class=\"d3-o-media-object__figure nfl-c-custom-promo__figure\">\n",
       "<picture><!--[if IE 9]><video style=\"display: none; \"><![endif]--><source media=\"(min-width:1024px)\" srcset=\"https://static.www.nfl.com/image/private/f_auto/league/pln44vuzugjgipyidsre\"/><source media=\"(min-width:768px)\" srcset=\"https://static.www.nfl.com/image/private/f_auto/league/pln44vuzugjgipyidsre\"/><source srcset=\"https://static.www.nfl.com/image/private/f_auto/league/pln44vuzugjgipyidsre\"/><!--[if IE 9]></video><![endif]--><img alt=\"Tennessee Titans\" class=\"img-responsive\" src=\"https://static.www.nfl.com/image/private/f_auto/league/pln44vuzugjgipyidsre\"/></picture>\n",
       "</figure>\n",
       "<div class=\"d3-o-media-object__body nfl-c-custom-promo__body\">\n",
       "<h4 class=\"d3-o-media-object__roofline nfl-c-custom-promo__headline\">\n",
       "<p>Tennessee Titans</p>\n",
       "</h4>\n",
       "<div class=\"d3-o-media-object__cta nfl-c-custom-promo__cta\">\n",
       "<a aria-label=\"View Profile\" class=\"d3-o-media-object__link d3-o-button nfl-o-cta nfl-o-cta--primary\" data-link_module=\"Custom Promo\" data-link_name=\"1st CTA View Profile\" data-link_type=\"afc-east-teams-teams-page\" data-link_url=\"/teams/tennessee-titans/\" href=\"/teams/tennessee-titans/\" target=\"_self\">\n",
       "                  View Profile\n",
       "                </a>\n",
       "<a aria-label=\"View Full Site - Opens new window\" class=\"d3-o-media-object__link d3-o-button nfl-o-cta nfl-o-cta--primary\" data-link_module=\"Custom Promo\" data-link_name=\"2nd CTA View Full Site\" data-link_type=\"afc-east-teams-teams-page\" data-link_url=\"https://www.tennesseetitans.com/\" href=\"https://www.tennesseetitans.com/\" target=\"_blank\">\n",
       "                  View Full Site\n",
       "                </a>\n",
       "</div>\n",
       "</div>\n",
       "</div>\n",
       "</div>\n",
       "</div>"
      ]
     },
     "execution_count": 4,
     "metadata": {},
     "output_type": "execute_result"
    }
   ],
   "source": [
    "results[-1]"
   ]
  },
  {
   "cell_type": "code",
   "execution_count": null,
   "metadata": {},
   "outputs": [],
   "source": []
  },
  {
   "cell_type": "code",
   "execution_count": 5,
   "metadata": {},
   "outputs": [
    {
     "data": {
      "text/plain": [
       "'Arizona Cardinals'"
      ]
     },
     "execution_count": 5,
     "metadata": {},
     "output_type": "execute_result"
    }
   ],
   "source": [
    "results[0].find(\"h4\").text.replace('\\n', '')"
   ]
  },
  {
   "cell_type": "code",
   "execution_count": 6,
   "metadata": {},
   "outputs": [
    {
     "data": {
      "text/plain": [
       "'https://static.www.nfl.com/image/private/f_auto/league/u9fltoslqdsyao8cpm0k'"
      ]
     },
     "execution_count": 6,
     "metadata": {},
     "output_type": "execute_result"
    }
   ],
   "source": [
    "results[0].find(\"img\",{\"class\": \"img-responsive\"})['src']"
   ]
  },
  {
   "cell_type": "code",
   "execution_count": 13,
   "metadata": {},
   "outputs": [],
   "source": [
    "for result in results:\n",
    "    try:\n",
    "        imageName = result.find(\"h4\").text.replace('\\n', '').replace(' ', '').lower()\n",
    "        imageURL = result.find(\"img\",{\"class\": \"img-responsive\"})['src']\n",
    "        img = Image.open(requests.get(imageURL, stream = True).raw)\n",
    "        img.save(os.path.join(\"images\", imageName + \".png\"))\n",
    "    except AttributeError:\n",
    "        pass"
   ]
  },
  {
   "cell_type": "code",
   "execution_count": null,
   "metadata": {},
   "outputs": [],
   "source": []
  },
  {
   "cell_type": "code",
   "execution_count": null,
   "metadata": {},
   "outputs": [],
   "source": []
  }
 ],
 "metadata": {
  "kernelspec": {
   "display_name": "Python 3",
   "language": "python",
   "name": "python3"
  },
  "language_info": {
   "codemirror_mode": {
    "name": "ipython",
    "version": 3
   },
   "file_extension": ".py",
   "mimetype": "text/x-python",
   "name": "python",
   "nbconvert_exporter": "python",
   "pygments_lexer": "ipython3",
   "version": "3.8.3"
  }
 },
 "nbformat": 4,
 "nbformat_minor": 4
}
